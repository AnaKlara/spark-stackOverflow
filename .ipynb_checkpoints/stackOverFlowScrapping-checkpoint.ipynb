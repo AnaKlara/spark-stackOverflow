{
 "cells": [
  {
   "cell_type": "code",
   "execution_count": 1,
   "metadata": {
    "collapsed": true
   },
   "outputs": [
    {
     "name": "stdout",
     "output_type": "stream",
     "text": [
      "/opt/conda/envs/Python-3.7-OpenCE/lib/python3.7/site-packages/secretstorage/dhcrypto.py:16: CryptographyDeprecationWarning: int_from_bytes is deprecated, use int.from_bytes instead\n",
      "  from cryptography.utils import int_from_bytes\n",
      "/opt/conda/envs/Python-3.7-OpenCE/lib/python3.7/site-packages/secretstorage/util.py:25: CryptographyDeprecationWarning: int_from_bytes is deprecated, use int.from_bytes instead\n",
      "  from cryptography.utils import int_from_bytes\n",
      "Requirement already satisfied: telegram-send in /opt/conda/envs/Python-3.7-OpenCE/lib/python3.7/site-packages (0.25)\n",
      "Requirement already satisfied: python-telegram-bot>=12.1.1 in /opt/conda/envs/Python-3.7-OpenCE/lib/python3.7/site-packages (from telegram-send) (13.7)\n",
      "Requirement already satisfied: colorama in /opt/conda/envs/Python-3.7-OpenCE/lib/python3.7/site-packages (from telegram-send) (0.4.4)\n",
      "Requirement already satisfied: appdirs in /opt/conda/envs/Python-3.7-OpenCE/lib/python3.7/site-packages (from telegram-send) (1.4.4)\n",
      "Requirement already satisfied: certifi in /opt/conda/envs/Python-3.7-OpenCE/lib/python3.7/site-packages (from python-telegram-bot>=12.1.1->telegram-send) (2021.5.30)\n",
      "Requirement already satisfied: cachetools==4.2.2 in /opt/conda/envs/Python-3.7-OpenCE/lib/python3.7/site-packages (from python-telegram-bot>=12.1.1->telegram-send) (4.2.2)\n",
      "Requirement already satisfied: APScheduler==3.6.3 in /opt/conda/envs/Python-3.7-OpenCE/lib/python3.7/site-packages (from python-telegram-bot>=12.1.1->telegram-send) (3.6.3)\n",
      "Requirement already satisfied: pytz>=2018.6 in /opt/conda/envs/Python-3.7-OpenCE/lib/python3.7/site-packages (from python-telegram-bot>=12.1.1->telegram-send) (2020.1)\n",
      "Requirement already satisfied: tornado>=6.1 in /opt/conda/envs/Python-3.7-OpenCE/lib/python3.7/site-packages (from python-telegram-bot>=12.1.1->telegram-send) (6.1)\n",
      "Requirement already satisfied: tzlocal>=1.2 in /opt/conda/envs/Python-3.7-OpenCE/lib/python3.7/site-packages (from APScheduler==3.6.3->python-telegram-bot>=12.1.1->telegram-send) (2.1)\n",
      "Requirement already satisfied: setuptools>=0.7 in /opt/conda/envs/Python-3.7-OpenCE/lib/python3.7/site-packages (from APScheduler==3.6.3->python-telegram-bot>=12.1.1->telegram-send) (47.3.1.post20200622)\n",
      "Requirement already satisfied: six>=1.4.0 in /opt/conda/envs/Python-3.7-OpenCE/lib/python3.7/site-packages (from APScheduler==3.6.3->python-telegram-bot>=12.1.1->telegram-send) (1.15.0)\n"
     ]
    }
   ],
   "source": [
    "!pip install telegram-send"
   ]
  },
  {
   "cell_type": "code",
   "execution_count": 2,
   "metadata": {},
   "outputs": [],
   "source": [
    "import pandas as pd"
   ]
  },
  {
   "cell_type": "code",
   "execution_count": 3,
   "metadata": {},
   "outputs": [],
   "source": [
    "import telegram_send"
   ]
  },
  {
   "cell_type": "code",
   "execution_count": 4,
   "metadata": {},
   "outputs": [],
   "source": [
    "import requests"
   ]
  },
  {
   "cell_type": "code",
   "execution_count": 5,
   "metadata": {},
   "outputs": [],
   "source": [
    "import time\n",
    "from bs4 import BeautifulSoup\n",
    "from urllib.request import urlopen\n",
    "import re"
   ]
  },
  {
   "cell_type": "code",
   "execution_count": 6,
   "metadata": {},
   "outputs": [],
   "source": [
    "def telegram_bot_sendtext(bot_message):\n",
    "    \n",
    "    bot_token = ''\n",
    "    bot_chatID = ''\n",
    "    send_text = 'https://api.telegram.org/bot' + bot_token + '/sendMessage?chat_id=' + bot_chatID + '&parse_mode=Markdown&text=' + bot_message\n",
    "\n",
    "    response = requests.get(send_text)\n",
    "\n",
    "    return response.json()"
   ]
  },
  {
   "cell_type": "code",
   "execution_count": 7,
   "metadata": {},
   "outputs": [],
   "source": [
    "#telegram_bot_sendtext(\"Heloo World\")"
   ]
  },
  {
   "cell_type": "code",
   "execution_count": 8,
   "metadata": {},
   "outputs": [],
   "source": [
    "from project_lib import Project"
   ]
  },
  {
   "cell_type": "code",
   "execution_count": 9,
   "metadata": {},
   "outputs": [],
   "source": [
    "project = Project(\n",
    "    project_id = '', \n",
    "    project_access_token = ''\n",
    ")\n",
    "pc = project.project_context"
   ]
  },
  {
   "cell_type": "code",
   "execution_count": null,
   "metadata": {},
   "outputs": [],
   "source": []
  },
  {
   "cell_type": "code",
   "execution_count": 10,
   "metadata": {},
   "outputs": [],
   "source": [
    "#header = ['qid', 'pergunta', 'votos', 'nRespostas','views','tags','descricao','lastModifyed','socreatedAt']\n",
    "header = ['qid', 'pergunta', 'votos', 'nRespostas','views','tags','lastModifyed','socreatedAt']"
   ]
  },
  {
   "cell_type": "code",
   "execution_count": 11,
   "metadata": {},
   "outputs": [],
   "source": [
    "def scrap_unanswered_questions(questions_list_page):\n",
    "    df = pd.DataFrame(columns = header)\n",
    "    \n",
    "    questions = questions_list_page.find_all(class_='question-summary')\n",
    "    q_count = len(questions)\n",
    "    \n",
    "    for i in range(q_count):\n",
    "        id_str = questions[i].get('id')\n",
    "        id_clean = re.findall('[0-9]+', id_str)[0]\n",
    "        #print(id_clean)\n",
    "        pergunta = questions[i].find(class_='question-hyperlink').text\n",
    "        #print(pergunta)\n",
    "        n_votos = questions[i].find(class_='vote-count-post').text\n",
    "        #print(n_votos)\n",
    "        n_respostas =  questions[i].find(class_='status').text\n",
    "        n_respostas = re.findall('[0-9]+', n_respostas)[0]\n",
    "        #print(n_respostas)\n",
    "        visitas = questions[i].find(class_='views')['title']\n",
    "        n_visitas  = re.findall('[0-9]+', visitas)[0]\n",
    "        #print(n_visitas)\n",
    "        tags = questions[i].find(class_='flex--item').find_all('a', href=True)\n",
    "        n_tags = []\n",
    "        for i in range(len(tags)):\n",
    "            n_tags.append(tags[i].text)\n",
    "        #print(n_tags)\n",
    "        last_modification = questions[i].find(class_='relativetime')['title']\n",
    "        #print(last_modification)\n",
    "        \n",
    "        html = urlopen(f\"https://pt.stackoverflow.com/questions/{id_clean}\")\n",
    "        question_page = BeautifulSoup(html, 'html.parser')\n",
    "        html.close()\n",
    "        time.sleep(10)\n",
    "        \n",
    "        asked_ = question_page.find('time')['datetime']\n",
    "        #print(asked_)\n",
    "        \n",
    "        #description = question_page.find(class_='js-post-body').findAll('p')\n",
    "        #description_p = []\n",
    "        #for f in range(len(description)):\n",
    "            #description_p.append(description[f].text)\n",
    "            \n",
    "        #description_p = ' '.join(description_p)\n",
    "        #print(description_p)\n",
    "        new_row = {\n",
    "                   'qid': id_clean, \n",
    "                   'pergunta': pergunta, \n",
    "                   'votos': n_votos, \n",
    "                   'nRespostas': n_respostas ,\n",
    "                   'views': n_visitas ,\n",
    "                   'tags': n_tags,\n",
    "                   #'descricao': description_p,\n",
    "                   'lastModifyed':last_modification,\n",
    "                   'socreatedAt': asked_\n",
    "                  }\n",
    "        #append row to the dataframe\n",
    "        df = df.append(new_row, ignore_index=True)\n",
    "        #print(\"******************************************************\")\n",
    "    \n",
    "    return df"
   ]
  },
  {
   "cell_type": "code",
   "execution_count": 12,
   "metadata": {},
   "outputs": [],
   "source": [
    "# @hidden_cell      \n",
    "import os, types\n",
    "import pandas as pd\n",
    "from botocore.client import Config\n",
    "import ibm_boto3\n",
    "\n",
    "def __iter__(self): return 0\n",
    "\n",
    "if os.environ.get('RUNTIME_ENV_LOCATION_TYPE') == 'external':\n",
    "    endpoint_6337e1afa96b41479fda20829220b743 = 'https://s3.us.cloud-object-storage.appdomain.cloud'\n",
    "else:\n",
    "    endpoint_6337e1afa96b41479fda20829220b743 = 'https://s3.private.us.cloud-object-storage.appdomain.cloud'\n",
    "\n",
    "client_6337e1afa96b41479fda20829220b743 = ibm_boto3.client(service_name='s3',\n",
    "    ibm_api_key_id='',\n",
    "    ibm_auth_endpoint=\"https://iam.cloud.ibm.com/oidc/token\",\n",
    "    config=Config(signature_version='oauth'),\n",
    "    endpoint_url=endpoint_6337e1afa96b41479fda20829220b743)\n",
    "\n",
    "\n",
    "paginas_ja_baixadas = 87\n",
    "a = 1\n",
    "while(a == 1):\n",
    "    try:     \n",
    "        csv_filename = f'data_stackOverflow_questions_page_{i}.csv'\n",
    "        body = client_6337e1afa96b41479fda20829220b743.get_object(Bucket='',Key=csv_filename)['Body']\n",
    "        # add missing __iter__ method, so pandas accepts body as file-like object\n",
    "        if not hasattr(body, \"__iter__\"): body.__iter__ = types.MethodType( __iter__, body )\n",
    "\n",
    "        df_data_1 = pd.read_csv(body)\n",
    "        paginas_ja_baixadas = paginas_ja_baixadas + 1\n",
    "    except:\n",
    "        break\n",
    "        "
   ]
  },
  {
   "cell_type": "code",
   "execution_count": 13,
   "metadata": {
    "collapsed": true
   },
   "outputs": [
    {
     "data": {
      "text/plain": [
       "{'ok': True,\n",
       " 'result': {'message_id': 39,\n",
       "  'from': {'id': 1749057957,\n",
       "   'is_bot': True,\n",
       "   'first_name': 'CloudAdvisor',\n",
       "   'username': 'cloud_captain_bot'},\n",
       "  'chat': {'id': 772858692,\n",
       "   'first_name': 'Ana Clara',\n",
       "   'last_name': 'Correa',\n",
       "   'username': 'aclaracorrea',\n",
       "   'type': 'private'},\n",
       "  'date': 1626799901,\n",
       "  'text': '🚀 Scraping\\n\\nReiniciando o download da página 87'}}"
      ]
     },
     "execution_count": 13,
     "metadata": {},
     "output_type": "execute_result"
    }
   ],
   "source": [
    "message = f\"🚀 Scraping\\n\\nReiniciando o download da página {paginas_ja_baixadas}\"\n",
    "telegram_bot_sendtext(message)"
   ]
  },
  {
   "cell_type": "code",
   "execution_count": null,
   "metadata": {},
   "outputs": [],
   "source": [
    "i = paginas_ja_baixadas\n",
    "while(a == 1):\n",
    "    \n",
    "    paginaURL = f\"https://pt.stackoverflow.com/unanswered/tagged/?page={i}&tab=votes\"\n",
    "    #print(paginaURL)\n",
    "    \n",
    "    if (i%10 == 0):\n",
    "        message = f\"🚀 Scraping\\n\\nIniciando o download de mais um bloco de 10 páginas\\n\\nPágina atual: {paginaURL}\"\n",
    "        telegram_bot_sendtext(message)\n",
    "    \n",
    "    try:\n",
    "        html = urlopen(f\"https://pt.stackoverflow.com/unanswered/tagged/?page={i}&tab=votes\")\n",
    "        questions_list_page = BeautifulSoup(html, 'html.parser')\n",
    "        html.close()\n",
    "    except Exception as e:\n",
    "        message = f\"🚀 Scraping\\n\\nNão consegui abrir essa página no stackoverflow: {paginaURL}\"\n",
    "        telegram_bot_sendtext(message)\n",
    "        telegram_bot_sendtext(e)\n",
    "        time.sleep(20)\n",
    "        try:\n",
    "            html = urlopen(f\"https://pt.stackoverflow.com/unanswered/tagged/?page={i}&tab=votes\")\n",
    "            questions_list_page = BeautifulSoup(html, 'html.parser')\n",
    "            html.close()\n",
    "        except:\n",
    "            message = f\"🚀 Scraping\\n\\no código parou de rodar\"\n",
    "            telegram_bot_sendtext(message)\n",
    "            break\n",
    "    \n",
    "    df = scrap_unanswered_questions(questions_list_page)\n",
    "    \n",
    "    prefix = \"data_\"\n",
    "    file_name = f\"{prefix}stackOverflow_questions_page_{i}.csv\"\n",
    "    \n",
    "    try:\n",
    "        project.save_data(file_name = file_name, data = df.to_csv(index=False, sep=';', encoding=\"UTF-16LE\", header=False),set_project_asset=None, overwrite=True, direct_storage=False)\n",
    "    except:\n",
    "        message = \"🚀 Scraping\\n\\nDeu ruim aqui eim, não deu pra salvar o csv. Vem dar uma olhada.\"\n",
    "        telegram_bot_sendtext(message)\n",
    "        time.sleep(10)\n",
    "        pass\n",
    "\n",
    "    i += 1\n",
    "    time.sleep(15) # dormir por 3 segundos"
   ]
  },
  {
   "cell_type": "code",
   "execution_count": null,
   "metadata": {},
   "outputs": [],
   "source": []
  }
 ],
 "metadata": {
  "kernelspec": {
   "display_name": "Python 3",
   "language": "python",
   "name": "python3"
  },
  "language_info": {
   "codemirror_mode": {
    "name": "ipython",
    "version": 3
   },
   "file_extension": ".py",
   "mimetype": "text/x-python",
   "name": "python",
   "nbconvert_exporter": "python",
   "pygments_lexer": "ipython3",
   "version": "3.8.3"
  }
 },
 "nbformat": 4,
 "nbformat_minor": 1
}
